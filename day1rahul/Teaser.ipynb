{
 "metadata": {
  "name": "",
  "signature": "sha256:f8ab80109186001a2ac664174dbcc4cec762c82dd4739abeae8aa491c4dd346c"
 },
 "nbformat": 3,
 "nbformat_minor": 0,
 "worksheets": [
  {
   "cells": [
    {
     "cell_type": "markdown",
     "metadata": {},
     "source": [
      "#Teaser\n",
      "\n",
      "This is Note No. 1.\n",
      "\n",
      ">Here is a quote\n",
      "    \n",
      "    Hello World\n",
      "    \n",
      "* first item\n",
      "* second item\n",
      "\n",
      "\n",
      "1. first item\n",
      "2. second item\n",
      "\n",
      "http://www.google.com\n",
      "\n",
      "[hello world](http://www.google.com)\n",
      "\n",
      "![All is squirrely](http://caffeinatedthoughts.com/wp-content/uploads/2014/08/eastern-gray-squirrel-1024x727.jpg \"All is squirrely!\")\n",
      "\n",
      "Here is something in `typewriter` text.\n",
      "\n",
      "```python\n",
      "\n",
      "def f():\n",
      "    return None\n",
      "    \n",
      "```\n",
      "\n",
      "Let's say that $\\alpha=3$\n",
      "\n",
      "Then we find that:\n",
      "\n",
      "$$\\alpha + 1 = 4 .$$\n",
      "\n"
     ]
    },
    {
     "cell_type": "code",
     "collapsed": false,
     "input": [
      "%matplotlib inline\n",
      "import numpy as np\n",
      "import matplotlib.pyplot as plt\n",
      "import pandas as pd\n",
      "import seaborn as sns\n",
      "pd.set_option('display.width', 500)\n",
      "pd.set_option('display.max_columns', 100)"
     ],
     "language": "python",
     "metadata": {},
     "outputs": [],
     "prompt_number": 4
    },
    {
     "cell_type": "markdown",
     "metadata": {},
     "source": [
      "Get Cheatsheet:\n",
      "\n",
      "from https://drive.google.com/folderview?id=0ByIrJAE4KMTtaGhRcXkxNHhmY2M&usp=sharing\n"
     ]
    },
    {
     "cell_type": "code",
     "collapsed": false,
     "input": [
      "df=pd.read_csv(\"all.csv\", header=None,\n",
      "               names=['rating', 'review_count', 'isbn', 'booktype','author_url', 'year', 'genre_urls', 'dir','rating_count', 'name'],\n",
      ")\n",
      "df.head()"
     ],
     "language": "python",
     "metadata": {},
     "outputs": [
      {
       "html": [
        "<div style=\"max-height:1000px;max-width:1500px;overflow:auto;\">\n",
        "<table border=\"1\" class=\"dataframe\">\n",
        "  <thead>\n",
        "    <tr style=\"text-align: right;\">\n",
        "      <th></th>\n",
        "      <th>rating</th>\n",
        "      <th>review_count</th>\n",
        "      <th>isbn</th>\n",
        "      <th>booktype</th>\n",
        "      <th>author_url</th>\n",
        "      <th>year</th>\n",
        "      <th>genre_urls</th>\n",
        "      <th>dir</th>\n",
        "      <th>rating_count</th>\n",
        "      <th>name</th>\n",
        "    </tr>\n",
        "  </thead>\n",
        "  <tbody>\n",
        "    <tr>\n",
        "      <th>0</th>\n",
        "      <td> 4.40</td>\n",
        "      <td> 136455</td>\n",
        "      <td> 0439023483</td>\n",
        "      <td> good_reads:book</td>\n",
        "      <td> https://www.goodreads.com/author/show/153394.S...</td>\n",
        "      <td> 2008</td>\n",
        "      <td> /genres/young-adult|/genres/science-fiction|/g...</td>\n",
        "      <td>               dir01/2767052-the-hunger-games.html</td>\n",
        "      <td> 2958974</td>\n",
        "      <td>           The Hunger Games (The Hunger Games, #1)</td>\n",
        "    </tr>\n",
        "    <tr>\n",
        "      <th>1</th>\n",
        "      <td> 4.41</td>\n",
        "      <td>  16648</td>\n",
        "      <td> 0439358078</td>\n",
        "      <td> good_reads:book</td>\n",
        "      <td> https://www.goodreads.com/author/show/1077326....</td>\n",
        "      <td> 2003</td>\n",
        "      <td> /genres/fantasy|/genres/young-adult|/genres/fi...</td>\n",
        "      <td> dir01/2.Harry_Potter_and_the_Order_of_the_Phoe...</td>\n",
        "      <td> 1284478</td>\n",
        "      <td> Harry Potter and the Order of the Phoenix (Har...</td>\n",
        "    </tr>\n",
        "    <tr>\n",
        "      <th>2</th>\n",
        "      <td> 3.56</td>\n",
        "      <td>  85746</td>\n",
        "      <td> 0316015849</td>\n",
        "      <td> good_reads:book</td>\n",
        "      <td> https://www.goodreads.com/author/show/941441.S...</td>\n",
        "      <td> 2005</td>\n",
        "      <td> /genres/young-adult|/genres/fantasy|/genres/ro...</td>\n",
        "      <td>                         dir01/41865.Twilight.html</td>\n",
        "      <td> 2579564</td>\n",
        "      <td>                           Twilight (Twilight, #1)</td>\n",
        "    </tr>\n",
        "    <tr>\n",
        "      <th>3</th>\n",
        "      <td> 4.23</td>\n",
        "      <td>  47906</td>\n",
        "      <td> 0061120081</td>\n",
        "      <td> good_reads:book</td>\n",
        "      <td> https://www.goodreads.com/author/show/1825.Har...</td>\n",
        "      <td> 1960</td>\n",
        "      <td> /genres/classics|/genres/fiction|/genres/histo...</td>\n",
        "      <td>             dir01/2657.To_Kill_a_Mockingbird.html</td>\n",
        "      <td> 2078123</td>\n",
        "      <td>                             To Kill a Mockingbird</td>\n",
        "    </tr>\n",
        "    <tr>\n",
        "      <th>4</th>\n",
        "      <td> 4.23</td>\n",
        "      <td>  34772</td>\n",
        "      <td> 0679783261</td>\n",
        "      <td> good_reads:book</td>\n",
        "      <td> https://www.goodreads.com/author/show/1265.Jan...</td>\n",
        "      <td> 1813</td>\n",
        "      <td> /genres/classics|/genres/fiction|/genres/roman...</td>\n",
        "      <td>               dir01/1885.Pride_and_Prejudice.html</td>\n",
        "      <td> 1388992</td>\n",
        "      <td>                               Pride and Prejudice</td>\n",
        "    </tr>\n",
        "  </tbody>\n",
        "</table>\n",
        "</div>"
       ],
       "metadata": {},
       "output_type": "pyout",
       "prompt_number": 2,
       "text": [
        "   rating review_count        isbn         booktype                                         author_url  year                                         genre_urls                                                dir rating_count                                               name\n",
        "0    4.40       136455  0439023483  good_reads:book  https://www.goodreads.com/author/show/153394.S...  2008  /genres/young-adult|/genres/science-fiction|/g...                dir01/2767052-the-hunger-games.html      2958974            The Hunger Games (The Hunger Games, #1)\n",
        "1    4.41        16648  0439358078  good_reads:book  https://www.goodreads.com/author/show/1077326....  2003  /genres/fantasy|/genres/young-adult|/genres/fi...  dir01/2.Harry_Potter_and_the_Order_of_the_Phoe...      1284478  Harry Potter and the Order of the Phoenix (Har...\n",
        "2    3.56        85746  0316015849  good_reads:book  https://www.goodreads.com/author/show/941441.S...  2005  /genres/young-adult|/genres/fantasy|/genres/ro...                          dir01/41865.Twilight.html      2579564                            Twilight (Twilight, #1)\n",
        "3    4.23        47906  0061120081  good_reads:book  https://www.goodreads.com/author/show/1825.Har...  1960  /genres/classics|/genres/fiction|/genres/histo...              dir01/2657.To_Kill_a_Mockingbird.html      2078123                              To Kill a Mockingbird\n",
        "4    4.23        34772  0679783261  good_reads:book  https://www.goodreads.com/author/show/1265.Jan...  1813  /genres/classics|/genres/fiction|/genres/roman...                dir01/1885.Pride_and_Prejudice.html      1388992                                Pride and Prejudice"
       ]
      }
     ],
     "prompt_number": 2
    },
    {
     "cell_type": "markdown",
     "metadata": {},
     "source": [
      "##Vectorization\n",
      "\n",
      "The python numerical stack is based on a concept called vectorization. You have seen this in spreadsheets where you manipulate an entire column.\n",
      "\n",
      "Whats the idea? It is that cpu's have some ability to carry out multiple things at one time, and we should use it to increase speed. But its also something else: there is a simplicity of notation. For example, see the following"
     ]
    },
    {
     "cell_type": "code",
     "collapsed": false,
     "input": [
      "a=[1,2,3,4,5]\n",
      "b=[1,2,3,4,5]\n",
      "print type(a)\n",
      "print \"=============\"\n",
      "for index,aitem in enumerate(a):\n",
      "    print index, a[index]*b[index]"
     ],
     "language": "python",
     "metadata": {},
     "outputs": [
      {
       "output_type": "stream",
       "stream": "stdout",
       "text": [
        "<type 'list'>\n",
        "=============\n",
        "0 1\n",
        "1 4\n",
        "2 9\n",
        "3 16\n",
        "4 25\n"
       ]
      }
     ],
     "prompt_number": 5
    },
    {
     "cell_type": "code",
     "collapsed": false,
     "input": [
      "a=np.array([1,2,3,4,5])\n",
      "print type(a)\n",
      "b=np.array([1,2,3,4,5])\n",
      "\n",
      "print a*b"
     ],
     "language": "python",
     "metadata": {},
     "outputs": [
      {
       "output_type": "stream",
       "stream": "stdout",
       "text": [
        "[ 1  4  9 16 25]\n"
       ]
      }
     ],
     "prompt_number": 5
    },
    {
     "cell_type": "code",
     "collapsed": false,
     "input": [
      "a+1"
     ],
     "language": "python",
     "metadata": {},
     "outputs": [
      {
       "metadata": {},
       "output_type": "pyout",
       "prompt_number": 6,
       "text": [
        "array([2, 3, 4, 5, 6])"
       ]
      }
     ],
     "prompt_number": 6
    },
    {
     "cell_type": "markdown",
     "metadata": {},
     "source": [
      "##Pandas"
     ]
    },
    {
     "cell_type": "code",
     "collapsed": false,
     "input": [
      "df=pd.read_csv(\"all.csv\", header=None,\n",
      "               names=[\"rating\", 'review_count', 'isbn', 'booktype','author_url', 'year', 'genre_urls', 'dir','rating_count', 'name'],\n",
      ")\n",
      "df.head()"
     ],
     "language": "python",
     "metadata": {},
     "outputs": [
      {
       "html": [
        "<div style=\"max-height:1000px;max-width:1500px;overflow:auto;\">\n",
        "<table border=\"1\" class=\"dataframe\">\n",
        "  <thead>\n",
        "    <tr style=\"text-align: right;\">\n",
        "      <th></th>\n",
        "      <th>rating</th>\n",
        "      <th>review_count</th>\n",
        "      <th>isbn</th>\n",
        "      <th>booktype</th>\n",
        "      <th>author_url</th>\n",
        "      <th>year</th>\n",
        "      <th>genre_urls</th>\n",
        "      <th>dir</th>\n",
        "      <th>rating_count</th>\n",
        "      <th>name</th>\n",
        "    </tr>\n",
        "  </thead>\n",
        "  <tbody>\n",
        "    <tr>\n",
        "      <th>0</th>\n",
        "      <td> 4.40</td>\n",
        "      <td> 136455</td>\n",
        "      <td> 0439023483</td>\n",
        "      <td> good_reads:book</td>\n",
        "      <td> https://www.goodreads.com/author/show/153394.S...</td>\n",
        "      <td> 2008</td>\n",
        "      <td> /genres/young-adult|/genres/science-fiction|/g...</td>\n",
        "      <td>               dir01/2767052-the-hunger-games.html</td>\n",
        "      <td> 2958974</td>\n",
        "      <td>           The Hunger Games (The Hunger Games, #1)</td>\n",
        "    </tr>\n",
        "    <tr>\n",
        "      <th>1</th>\n",
        "      <td> 4.41</td>\n",
        "      <td>  16648</td>\n",
        "      <td> 0439358078</td>\n",
        "      <td> good_reads:book</td>\n",
        "      <td> https://www.goodreads.com/author/show/1077326....</td>\n",
        "      <td> 2003</td>\n",
        "      <td> /genres/fantasy|/genres/young-adult|/genres/fi...</td>\n",
        "      <td> dir01/2.Harry_Potter_and_the_Order_of_the_Phoe...</td>\n",
        "      <td> 1284478</td>\n",
        "      <td> Harry Potter and the Order of the Phoenix (Har...</td>\n",
        "    </tr>\n",
        "    <tr>\n",
        "      <th>2</th>\n",
        "      <td> 3.56</td>\n",
        "      <td>  85746</td>\n",
        "      <td> 0316015849</td>\n",
        "      <td> good_reads:book</td>\n",
        "      <td> https://www.goodreads.com/author/show/941441.S...</td>\n",
        "      <td> 2005</td>\n",
        "      <td> /genres/young-adult|/genres/fantasy|/genres/ro...</td>\n",
        "      <td>                         dir01/41865.Twilight.html</td>\n",
        "      <td> 2579564</td>\n",
        "      <td>                           Twilight (Twilight, #1)</td>\n",
        "    </tr>\n",
        "    <tr>\n",
        "      <th>3</th>\n",
        "      <td> 4.23</td>\n",
        "      <td>  47906</td>\n",
        "      <td> 0061120081</td>\n",
        "      <td> good_reads:book</td>\n",
        "      <td> https://www.goodreads.com/author/show/1825.Har...</td>\n",
        "      <td> 1960</td>\n",
        "      <td> /genres/classics|/genres/fiction|/genres/histo...</td>\n",
        "      <td>             dir01/2657.To_Kill_a_Mockingbird.html</td>\n",
        "      <td> 2078123</td>\n",
        "      <td>                             To Kill a Mockingbird</td>\n",
        "    </tr>\n",
        "    <tr>\n",
        "      <th>4</th>\n",
        "      <td> 4.23</td>\n",
        "      <td>  34772</td>\n",
        "      <td> 0679783261</td>\n",
        "      <td> good_reads:book</td>\n",
        "      <td> https://www.goodreads.com/author/show/1265.Jan...</td>\n",
        "      <td> 1813</td>\n",
        "      <td> /genres/classics|/genres/fiction|/genres/roman...</td>\n",
        "      <td>               dir01/1885.Pride_and_Prejudice.html</td>\n",
        "      <td> 1388992</td>\n",
        "      <td>                               Pride and Prejudice</td>\n",
        "    </tr>\n",
        "  </tbody>\n",
        "</table>\n",
        "</div>"
       ],
       "metadata": {},
       "output_type": "pyout",
       "prompt_number": 28,
       "text": [
        "   rating review_count        isbn         booktype                                         author_url  year                                         genre_urls                                                dir rating_count                                               name\n",
        "0    4.40       136455  0439023483  good_reads:book  https://www.goodreads.com/author/show/153394.S...  2008  /genres/young-adult|/genres/science-fiction|/g...                dir01/2767052-the-hunger-games.html      2958974            The Hunger Games (The Hunger Games, #1)\n",
        "1    4.41        16648  0439358078  good_reads:book  https://www.goodreads.com/author/show/1077326....  2003  /genres/fantasy|/genres/young-adult|/genres/fi...  dir01/2.Harry_Potter_and_the_Order_of_the_Phoe...      1284478  Harry Potter and the Order of the Phoenix (Har...\n",
        "2    3.56        85746  0316015849  good_reads:book  https://www.goodreads.com/author/show/941441.S...  2005  /genres/young-adult|/genres/fantasy|/genres/ro...                          dir01/41865.Twilight.html      2579564                            Twilight (Twilight, #1)\n",
        "3    4.23        47906  0061120081  good_reads:book  https://www.goodreads.com/author/show/1825.Har...  1960  /genres/classics|/genres/fiction|/genres/histo...              dir01/2657.To_Kill_a_Mockingbird.html      2078123                              To Kill a Mockingbird\n",
        "4    4.23        34772  0679783261  good_reads:book  https://www.goodreads.com/author/show/1265.Jan...  1813  /genres/classics|/genres/fiction|/genres/roman...                dir01/1885.Pride_and_Prejudice.html      1388992                                Pride and Prejudice"
       ]
      }
     ],
     "prompt_number": 28
    },
    {
     "cell_type": "markdown",
     "metadata": {},
     "source": [
      "Notice we have a table! A spreadsheet! And it indexed the rows. Lets see the types of the columns...\n",
      "\n",
      "![](files/pandastruct.png)"
     ]
    },
    {
     "cell_type": "code",
     "collapsed": false,
     "input": [
      "df.dtypes"
     ],
     "language": "python",
     "metadata": {},
     "outputs": [
      {
       "metadata": {},
       "output_type": "pyout",
       "prompt_number": 12,
       "text": [
        "rating          float64\n",
        "review_count     object\n",
        "isbn             object\n",
        "booktype         object\n",
        "author_url       object\n",
        "year            float64\n",
        "genre_urls       object\n",
        "dir              object\n",
        "rating_count     object\n",
        "name             object\n",
        "dtype: object"
       ]
      }
     ],
     "prompt_number": 12
    },
    {
     "cell_type": "code",
     "collapsed": false,
     "input": [
      "df.shape"
     ],
     "language": "python",
     "metadata": {},
     "outputs": [
      {
       "metadata": {},
       "output_type": "pyout",
       "prompt_number": 13,
       "text": [
        "(6000, 10)"
       ]
      }
     ],
     "prompt_number": 13
    },
    {
     "cell_type": "code",
     "collapsed": false,
     "input": [
      "df.columns"
     ],
     "language": "python",
     "metadata": {},
     "outputs": [
      {
       "metadata": {},
       "output_type": "pyout",
       "prompt_number": 14,
       "text": [
        "Index([u'rating', u'review_count', u'isbn', u'booktype', u'author_url', u'year', u'genre_urls', u'dir', u'rating_count', u'name'], dtype='object')"
       ]
      }
     ],
     "prompt_number": 14
    },
    {
     "cell_type": "code",
     "collapsed": false,
     "input": [
      "df.rating"
     ],
     "language": "python",
     "metadata": {},
     "outputs": [
      {
       "metadata": {},
       "output_type": "pyout",
       "prompt_number": 15,
       "text": [
        "0     4.40\n",
        "1     4.41\n",
        "2     3.56\n",
        "3     4.23\n",
        "4     4.23\n",
        "5     4.25\n",
        "6     4.22\n",
        "7     4.38\n",
        "8     3.79\n",
        "9     4.18\n",
        "10    4.03\n",
        "11    3.72\n",
        "12    4.36\n",
        "13    4.05\n",
        "14    3.72\n",
        "...\n",
        "5985    3.61\n",
        "5986    4.06\n",
        "5987    4.26\n",
        "5988    4.34\n",
        "5989    3.36\n",
        "5990    4.12\n",
        "5991    4.20\n",
        "5992    3.89\n",
        "5993    4.09\n",
        "5994    4.37\n",
        "5995    4.17\n",
        "5996    3.99\n",
        "5997    3.78\n",
        "5998    3.91\n",
        "5999    4.35\n",
        "Name: rating, Length: 6000, dtype: float64"
       ]
      }
     ],
     "prompt_number": 15
    },
    {
     "cell_type": "code",
     "collapsed": false,
     "input": [
      "df[['rating', 'name']].sort(['rating'])"
     ],
     "language": "python",
     "metadata": {},
     "outputs": [
      {
       "html": [
        "<div style=\"max-height:1000px;max-width:1500px;overflow:auto;\">\n",
        "<table border=\"1\" class=\"dataframe\">\n",
        "  <thead>\n",
        "    <tr style=\"text-align: right;\">\n",
        "      <th></th>\n",
        "      <th>rating</th>\n",
        "      <th>name</th>\n",
        "    </tr>\n",
        "  </thead>\n",
        "  <tbody>\n",
        "    <tr>\n",
        "      <th>3738</th>\n",
        "      <td> 2.00</td>\n",
        "      <td>              Revealing Eden (Save the Pearls, #1)</td>\n",
        "    </tr>\n",
        "    <tr>\n",
        "      <th>5979</th>\n",
        "      <td> 2.77</td>\n",
        "      <td>                                              Lost</td>\n",
        "    </tr>\n",
        "    <tr>\n",
        "      <th>2609</th>\n",
        "      <td> 2.90</td>\n",
        "      <td>                          How To Be A Perfect Girl</td>\n",
        "    </tr>\n",
        "    <tr>\n",
        "      <th>5844</th>\n",
        "      <td> 2.97</td>\n",
        "      <td>                                        Mein Kampf</td>\n",
        "    </tr>\n",
        "    <tr>\n",
        "      <th>5113</th>\n",
        "      <td> 3.01</td>\n",
        "      <td>                         The Jane Austen Book Club</td>\n",
        "    </tr>\n",
        "    <tr>\n",
        "      <th>5064</th>\n",
        "      <td> 3.03</td>\n",
        "      <td>                                Billy Budd, Sailor</td>\n",
        "    </tr>\n",
        "    <tr>\n",
        "      <th>2957</th>\n",
        "      <td> 3.05</td>\n",
        "      <td>                                 The Mermaid Chair</td>\n",
        "    </tr>\n",
        "    <tr>\n",
        "      <th>5133</th>\n",
        "      <td> 3.08</td>\n",
        "      <td>                               Beatrice and Virgil</td>\n",
        "    </tr>\n",
        "    <tr>\n",
        "      <th>4280</th>\n",
        "      <td> 3.09</td>\n",
        "      <td>                                        Nightlight</td>\n",
        "    </tr>\n",
        "    <tr>\n",
        "      <th>5066</th>\n",
        "      <td> 3.12</td>\n",
        "      <td>                       The Actor and the Housewife</td>\n",
        "    </tr>\n",
        "    <tr>\n",
        "      <th>5817</th>\n",
        "      <td> 3.15</td>\n",
        "      <td>                                         28 \u00d8\u00ad\u00d8\u00b1\u00d9\u0081</td>\n",
        "    </tr>\n",
        "    <tr>\n",
        "      <th>931 </th>\n",
        "      <td> 3.15</td>\n",
        "      <td>                          The Red Badge of Courage</td>\n",
        "    </tr>\n",
        "    <tr>\n",
        "      <th>4157</th>\n",
        "      <td> 3.18</td>\n",
        "      <td>                                  Me and Mr. Darcy</td>\n",
        "    </tr>\n",
        "    <tr>\n",
        "      <th>5770</th>\n",
        "      <td> 3.19</td>\n",
        "      <td>                               Snakes and Earrings</td>\n",
        "    </tr>\n",
        "    <tr>\n",
        "      <th>5284</th>\n",
        "      <td> 3.20</td>\n",
        "      <td>                                     The Tesseract</td>\n",
        "    </tr>\n",
        "    <tr>\n",
        "      <th>5195</th>\n",
        "      <td> 3.20</td>\n",
        "      <td>                                        Cosmopolis</td>\n",
        "    </tr>\n",
        "    <tr>\n",
        "      <th>4446</th>\n",
        "      <td> 3.21</td>\n",
        "      <td>                                     Shanghai Baby</td>\n",
        "    </tr>\n",
        "    <tr>\n",
        "      <th>4870</th>\n",
        "      <td> 3.21</td>\n",
        "      <td>        The Prophet of Yonwood (Book of Ember, #3)</td>\n",
        "    </tr>\n",
        "    <tr>\n",
        "      <th>2512</th>\n",
        "      <td> 3.21</td>\n",
        "      <td>                              Her Fearful Symmetry</td>\n",
        "    </tr>\n",
        "    <tr>\n",
        "      <th>5266</th>\n",
        "      <td> 3.22</td>\n",
        "      <td>           The Girls' Guide to Hunting and Fishing</td>\n",
        "    </tr>\n",
        "    <tr>\n",
        "      <th>3090</th>\n",
        "      <td> 3.23</td>\n",
        "      <td>                                          Scarlett</td>\n",
        "    </tr>\n",
        "    <tr>\n",
        "      <th>2875</th>\n",
        "      <td> 3.23</td>\n",
        "      <td>                                   A Reliable Wife</td>\n",
        "    </tr>\n",
        "    <tr>\n",
        "      <th>1343</th>\n",
        "      <td> 3.24</td>\n",
        "      <td>                                The Casual Vacancy</td>\n",
        "    </tr>\n",
        "    <tr>\n",
        "      <th>4533</th>\n",
        "      <td> 3.24</td>\n",
        "      <td>                             Binders Full of Women</td>\n",
        "    </tr>\n",
        "    <tr>\n",
        "      <th>3502</th>\n",
        "      <td> 3.25</td>\n",
        "      <td>               Wideacre (The Wideacre Trilogy, #1)</td>\n",
        "    </tr>\n",
        "    <tr>\n",
        "      <th>2403</th>\n",
        "      <td> 3.25</td>\n",
        "      <td> Pride and Prejudice and Zombies (Pride and Pre...</td>\n",
        "    </tr>\n",
        "    <tr>\n",
        "      <th>3788</th>\n",
        "      <td> 3.28</td>\n",
        "      <td>         Clarissa, or, the History of a Young Lady</td>\n",
        "    </tr>\n",
        "    <tr>\n",
        "      <th>5958</th>\n",
        "      <td> 3.29</td>\n",
        "      <td> The Claiming of Sleeping Beauty (Sleeping Beau...</td>\n",
        "    </tr>\n",
        "    <tr>\n",
        "      <th>5807</th>\n",
        "      <td> 3.29</td>\n",
        "      <td>                         Ghostgirl (Ghostgirl, #1)</td>\n",
        "    </tr>\n",
        "    <tr>\n",
        "      <th>655 </th>\n",
        "      <td> 3.30</td>\n",
        "      <td>                                       Ethan Frome</td>\n",
        "    </tr>\n",
        "    <tr>\n",
        "      <th>...</th>\n",
        "      <td>...</td>\n",
        "      <td>...</td>\n",
        "    </tr>\n",
        "    <tr>\n",
        "      <th>5874</th>\n",
        "      <td> 4.78</td>\n",
        "      <td>                                     Le Monogramme</td>\n",
        "    </tr>\n",
        "    <tr>\n",
        "      <th>4472</th>\n",
        "      <td> 4.79</td>\n",
        "      <td>                         Tilt (Dreams of Chaos #2)</td>\n",
        "    </tr>\n",
        "    <tr>\n",
        "      <th>1702</th>\n",
        "      <td> 4.80</td>\n",
        "      <td>                                             Plebs</td>\n",
        "    </tr>\n",
        "    <tr>\n",
        "      <th>5498</th>\n",
        "      <td> 4.80</td>\n",
        "      <td>                                  Syrian Folktales</td>\n",
        "    </tr>\n",
        "    <tr>\n",
        "      <th>2630</th>\n",
        "      <td> 4.80</td>\n",
        "      <td>                  If I Should Die Before My Dog --</td>\n",
        "    </tr>\n",
        "    <tr>\n",
        "      <th>5657</th>\n",
        "      <td> 4.80</td>\n",
        "      <td> Myrtle Mae and the Mirror in the Attic (The Ma...</td>\n",
        "    </tr>\n",
        "    <tr>\n",
        "      <th>249 </th>\n",
        "      <td> 4.80</td>\n",
        "      <td>                    The Complete Calvin and Hobbes</td>\n",
        "    </tr>\n",
        "    <tr>\n",
        "      <th>5480</th>\n",
        "      <td> 4.83</td>\n",
        "      <td>                              This Land of Streams</td>\n",
        "    </tr>\n",
        "    <tr>\n",
        "      <th>2108</th>\n",
        "      <td> 4.83</td>\n",
        "      <td>                           A House Without Windows</td>\n",
        "    </tr>\n",
        "    <tr>\n",
        "      <th>5729</th>\n",
        "      <td> 4.83</td>\n",
        "      <td>                       The Keeper (The Keeper, #5)</td>\n",
        "    </tr>\n",
        "    <tr>\n",
        "      <th>1561</th>\n",
        "      <td> 4.84</td>\n",
        "      <td>                                         NGLND XPX</td>\n",
        "    </tr>\n",
        "    <tr>\n",
        "      <th>911 </th>\n",
        "      <td> 4.85</td>\n",
        "      <td>                                Honor and Polygamy</td>\n",
        "    </tr>\n",
        "    <tr>\n",
        "      <th>1951</th>\n",
        "      <td> 4.85</td>\n",
        "      <td>                              Van Laven Chronicles</td>\n",
        "    </tr>\n",
        "    <tr>\n",
        "      <th>5532</th>\n",
        "      <td> 4.86</td>\n",
        "      <td>                             Call Of The Lost Ages</td>\n",
        "    </tr>\n",
        "    <tr>\n",
        "      <th>4405</th>\n",
        "      <td> 4.88</td>\n",
        "      <td>                                      My Two Cents</td>\n",
        "    </tr>\n",
        "    <tr>\n",
        "      <th>2034</th>\n",
        "      <td> 4.92</td>\n",
        "      <td>                                   Happy Halloween</td>\n",
        "    </tr>\n",
        "    <tr>\n",
        "      <th>3254</th>\n",
        "      <td> 4.92</td>\n",
        "      <td>                      Blackout (Talisman of El #2)</td>\n",
        "    </tr>\n",
        "    <tr>\n",
        "      <th>2865</th>\n",
        "      <td> 4.93</td>\n",
        "      <td>               La\u00c3\u00a7os fortes e decis\u00c3\u00b5es dif\u00c3\u00adceis</td>\n",
        "    </tr>\n",
        "    <tr>\n",
        "      <th>3712</th>\n",
        "      <td> 4.93</td>\n",
        "      <td>                                       Blade Heart</td>\n",
        "    </tr>\n",
        "    <tr>\n",
        "      <th>2920</th>\n",
        "      <td> 4.93</td>\n",
        "      <td>                               The Years Distilled</td>\n",
        "    </tr>\n",
        "    <tr>\n",
        "      <th>2868</th>\n",
        "      <td> 4.94</td>\n",
        "      <td>                   Nik Nassa &amp; the Mark of Destiny</td>\n",
        "    </tr>\n",
        "    <tr>\n",
        "      <th>5564</th>\n",
        "      <td> 5.00</td>\n",
        "      <td>              Untainted (Photographer Trilogy, #3)</td>\n",
        "    </tr>\n",
        "    <tr>\n",
        "      <th>2145</th>\n",
        "      <td> 5.00</td>\n",
        "      <td>                  A Book About Absolutely Nothing.</td>\n",
        "    </tr>\n",
        "    <tr>\n",
        "      <th>4473</th>\n",
        "      <td> 5.00</td>\n",
        "      <td>                                   Patience's Love</td>\n",
        "    </tr>\n",
        "    <tr>\n",
        "      <th>2909</th>\n",
        "      <td> 5.00</td>\n",
        "      <td>                                    Family Secrets</td>\n",
        "    </tr>\n",
        "    <tr>\n",
        "      <th>1718</th>\n",
        "      <td> 5.00</td>\n",
        "      <td>                        An Elephant Is On My House</td>\n",
        "    </tr>\n",
        "    <tr>\n",
        "      <th>5692</th>\n",
        "      <td> 5.00</td>\n",
        "      <td> Abstraction In Theory - Laws Of Physical Trans...</td>\n",
        "    </tr>\n",
        "    <tr>\n",
        "      <th>2903</th>\n",
        "      <td> 5.00</td>\n",
        "      <td>             Obscured Darkness (Family Secrets #2)</td>\n",
        "    </tr>\n",
        "    <tr>\n",
        "      <th>3643</th>\n",
        "      <td>  NaN</td>\n",
        "      <td>                                              None</td>\n",
        "    </tr>\n",
        "    <tr>\n",
        "      <th>5282</th>\n",
        "      <td>  NaN</td>\n",
        "      <td>                                              None</td>\n",
        "    </tr>\n",
        "  </tbody>\n",
        "</table>\n",
        "<p>6000 rows \u00d7 2 columns</p>\n",
        "</div>"
       ],
       "metadata": {},
       "output_type": "pyout",
       "prompt_number": 29,
       "text": [
        "      rating                                               name\n",
        "3738    2.00               Revealing Eden (Save the Pearls, #1)\n",
        "5979    2.77                                               Lost\n",
        "2609    2.90                           How To Be A Perfect Girl\n",
        "5844    2.97                                         Mein Kampf\n",
        "5113    3.01                          The Jane Austen Book Club\n",
        "5064    3.03                                 Billy Budd, Sailor\n",
        "2957    3.05                                  The Mermaid Chair\n",
        "5133    3.08                                Beatrice and Virgil\n",
        "4280    3.09                                         Nightlight\n",
        "5066    3.12                        The Actor and the Housewife\n",
        "5817    3.15                                          28 \u00d8\u00ad\u00d8\u00b1\u00d9\u0081\n",
        "931     3.15                           The Red Badge of Courage\n",
        "4157    3.18                                   Me and Mr. Darcy\n",
        "5770    3.19                                Snakes and Earrings\n",
        "5284    3.20                                      The Tesseract\n",
        "5195    3.20                                         Cosmopolis\n",
        "4446    3.21                                      Shanghai Baby\n",
        "4870    3.21         The Prophet of Yonwood (Book of Ember, #3)\n",
        "2512    3.21                               Her Fearful Symmetry\n",
        "5266    3.22            The Girls' Guide to Hunting and Fishing\n",
        "3090    3.23                                           Scarlett\n",
        "2875    3.23                                    A Reliable Wife\n",
        "1343    3.24                                 The Casual Vacancy\n",
        "4533    3.24                              Binders Full of Women\n",
        "3502    3.25                Wideacre (The Wideacre Trilogy, #1)\n",
        "2403    3.25  Pride and Prejudice and Zombies (Pride and Pre...\n",
        "3788    3.28          Clarissa, or, the History of a Young Lady\n",
        "5958    3.29  The Claiming of Sleeping Beauty (Sleeping Beau...\n",
        "5807    3.29                          Ghostgirl (Ghostgirl, #1)\n",
        "655     3.30                                        Ethan Frome\n",
        "...      ...                                                ...\n",
        "5874    4.78                                      Le Monogramme\n",
        "4472    4.79                          Tilt (Dreams of Chaos #2)\n",
        "1702    4.80                                              Plebs\n",
        "5498    4.80                                   Syrian Folktales\n",
        "2630    4.80                   If I Should Die Before My Dog --\n",
        "5657    4.80  Myrtle Mae and the Mirror in the Attic (The Ma...\n",
        "249     4.80                     The Complete Calvin and Hobbes\n",
        "5480    4.83                               This Land of Streams\n",
        "2108    4.83                            A House Without Windows\n",
        "5729    4.83                        The Keeper (The Keeper, #5)\n",
        "1561    4.84                                          NGLND XPX\n",
        "911     4.85                                 Honor and Polygamy\n",
        "1951    4.85                               Van Laven Chronicles\n",
        "5532    4.86                              Call Of The Lost Ages\n",
        "4405    4.88                                       My Two Cents\n",
        "2034    4.92                                    Happy Halloween\n",
        "3254    4.92                       Blackout (Talisman of El #2)\n",
        "2865    4.93                La\u00c3\u00a7os fortes e decis\u00c3\u00b5es dif\u00c3\u00adceis\n",
        "3712    4.93                                        Blade Heart\n",
        "2920    4.93                                The Years Distilled\n",
        "2868    4.94                    Nik Nassa & the Mark of Destiny\n",
        "5564    5.00               Untainted (Photographer Trilogy, #3)\n",
        "2145    5.00                   A Book About Absolutely Nothing.\n",
        "4473    5.00                                    Patience's Love\n",
        "2909    5.00                                     Family Secrets\n",
        "1718    5.00                         An Elephant Is On My House\n",
        "5692    5.00  Abstraction In Theory - Laws Of Physical Trans...\n",
        "2903    5.00              Obscured Darkness (Family Secrets #2)\n",
        "3643     NaN                                               None\n",
        "5282     NaN                                               None\n",
        "\n",
        "[6000 rows x 2 columns]"
       ]
      }
     ],
     "prompt_number": 29
    },
    {
     "cell_type": "code",
     "collapsed": false,
     "input": [
      "type(df.rating), type(df)"
     ],
     "language": "python",
     "metadata": {},
     "outputs": [
      {
       "metadata": {},
       "output_type": "pyout",
       "prompt_number": 11,
       "text": [
        "(pandas.core.series.Series, pandas.core.frame.DataFrame)"
       ]
      }
     ],
     "prompt_number": 11
    },
    {
     "cell_type": "code",
     "collapsed": false,
     "input": [
      "100*np.mean(df.rating > 4.5)"
     ],
     "language": "python",
     "metadata": {},
     "outputs": [
      {
       "metadata": {},
       "output_type": "pyout",
       "prompt_number": 33,
       "text": [
        "3.7333333333333338"
       ]
      }
     ],
     "prompt_number": 33
    },
    {
     "cell_type": "code",
     "collapsed": false,
     "input": [
      "#Here's a comment.\n",
      "dfnew=df[['rating', 'name', 'rating_count']]\n",
      "dfnew.head()"
     ],
     "language": "python",
     "metadata": {},
     "outputs": [
      {
       "html": [
        "<div style=\"max-height:1000px;max-width:1500px;overflow:auto;\">\n",
        "<table border=\"1\" class=\"dataframe\">\n",
        "  <thead>\n",
        "    <tr style=\"text-align: right;\">\n",
        "      <th></th>\n",
        "      <th>rating</th>\n",
        "      <th>name</th>\n",
        "      <th>rating_count</th>\n",
        "    </tr>\n",
        "  </thead>\n",
        "  <tbody>\n",
        "    <tr>\n",
        "      <th>0</th>\n",
        "      <td> 4.40</td>\n",
        "      <td>           The Hunger Games (The Hunger Games, #1)</td>\n",
        "      <td> 2958974</td>\n",
        "    </tr>\n",
        "    <tr>\n",
        "      <th>1</th>\n",
        "      <td> 4.41</td>\n",
        "      <td> Harry Potter and the Order of the Phoenix (Har...</td>\n",
        "      <td> 1284478</td>\n",
        "    </tr>\n",
        "    <tr>\n",
        "      <th>2</th>\n",
        "      <td> 3.56</td>\n",
        "      <td>                           Twilight (Twilight, #1)</td>\n",
        "      <td> 2579564</td>\n",
        "    </tr>\n",
        "    <tr>\n",
        "      <th>3</th>\n",
        "      <td> 4.23</td>\n",
        "      <td>                             To Kill a Mockingbird</td>\n",
        "      <td> 2078123</td>\n",
        "    </tr>\n",
        "    <tr>\n",
        "      <th>4</th>\n",
        "      <td> 4.23</td>\n",
        "      <td>                               Pride and Prejudice</td>\n",
        "      <td> 1388992</td>\n",
        "    </tr>\n",
        "  </tbody>\n",
        "</table>\n",
        "</div>"
       ],
       "metadata": {},
       "output_type": "pyout",
       "prompt_number": 31,
       "text": [
        "   rating                                               name rating_count\n",
        "0    4.40            The Hunger Games (The Hunger Games, #1)      2958974\n",
        "1    4.41  Harry Potter and the Order of the Phoenix (Har...      1284478\n",
        "2    3.56                            Twilight (Twilight, #1)      2579564\n",
        "3    4.23                              To Kill a Mockingbird      2078123\n",
        "4    4.23                                Pride and Prejudice      1388992"
       ]
      }
     ],
     "prompt_number": 31
    },
    {
     "cell_type": "code",
     "collapsed": false,
     "input": [
      "df.dtypes\n"
     ],
     "language": "python",
     "metadata": {},
     "outputs": [
      {
       "metadata": {},
       "output_type": "pyout",
       "prompt_number": 25,
       "text": [
        "rating          float64\n",
        "review_count     object\n",
        "isbn             object\n",
        "booktype         object\n",
        "author_url       object\n",
        "year            float64\n",
        "genre_urls       object\n",
        "dir              object\n",
        "rating_count     object\n",
        "name             object\n",
        "dtype: object"
       ]
      }
     ],
     "prompt_number": 25
    },
    {
     "cell_type": "code",
     "collapsed": false,
     "input": [
      "df.rating_count.isnull().sum()"
     ],
     "language": "python",
     "metadata": {},
     "outputs": [
      {
       "metadata": {},
       "output_type": "pyout",
       "prompt_number": 27,
       "text": [
        "0"
       ]
      }
     ],
     "prompt_number": 27
    },
    {
     "cell_type": "code",
     "collapsed": false,
     "input": [
      "ratingseries=df.rating[df.rating.notnull()]\n",
      "ratingseries"
     ],
     "language": "python",
     "metadata": {},
     "outputs": [
      {
       "metadata": {},
       "output_type": "pyout",
       "prompt_number": 30,
       "text": [
        "0     4.40\n",
        "1     4.41\n",
        "2     3.56\n",
        "3     4.23\n",
        "4     4.23\n",
        "5     4.25\n",
        "6     4.22\n",
        "7     4.38\n",
        "8     3.79\n",
        "9     4.18\n",
        "10    4.03\n",
        "11    3.72\n",
        "12    4.36\n",
        "13    4.05\n",
        "14    3.72\n",
        "...\n",
        "5985    3.61\n",
        "5986    4.06\n",
        "5987    4.26\n",
        "5988    4.34\n",
        "5989    3.36\n",
        "5990    4.12\n",
        "5991    4.20\n",
        "5992    3.89\n",
        "5993    4.09\n",
        "5994    4.37\n",
        "5995    4.17\n",
        "5996    3.99\n",
        "5997    3.78\n",
        "5998    3.91\n",
        "5999    4.35\n",
        "Name: rating, Length: 5998, dtype: float64"
       ]
      }
     ],
     "prompt_number": 30
    },
    {
     "cell_type": "code",
     "collapsed": false,
     "input": [
      "vals=ratingseries.values\n",
      "type(vals)"
     ],
     "language": "python",
     "metadata": {},
     "outputs": [
      {
       "metadata": {},
       "output_type": "pyout",
       "prompt_number": 34,
       "text": [
        "numpy.ndarray"
       ]
      }
     ],
     "prompt_number": 34
    },
    {
     "cell_type": "code",
     "collapsed": false,
     "input": [
      "plt.hist(vals);"
     ],
     "language": "python",
     "metadata": {},
     "outputs": [
      {
       "metadata": {},
       "output_type": "display_data",
       "png": "[encoded data removed]",
       "text": [
        "<matplotlib.figure.Figure at 0x1095a6690>"
       ]
      }
     ],
     "prompt_number": 35
    },
    {
     "cell_type": "code",
     "collapsed": false,
     "input": [
      "print type(vals)\n",
      "vals"
     ],
     "language": "python",
     "metadata": {},
     "outputs": [
      {
       "output_type": "stream",
       "stream": "stdout",
       "text": [
        "<type 'numpy.ndarray'>\n"
       ]
      },
      {
       "metadata": {},
       "output_type": "pyout",
       "prompt_number": 37,
       "text": [
        "array([ 4.4 ,  4.41,  3.56, ...,  3.78,  3.91,  4.35])"
       ]
      }
     ],
     "prompt_number": 37
    },
    {
     "cell_type": "markdown",
     "metadata": {},
     "source": [
      "But one dosent have to"
     ]
    },
    {
     "cell_type": "code",
     "collapsed": false,
     "input": [
      "df.rating.hist();"
     ],
     "language": "python",
     "metadata": {},
     "outputs": [
      {
       "metadata": {},
       "output_type": "display_data",
       "png": "[encoded data removed]",
       "text": [
        "<matplotlib.figure.Figure at 0x10a4b5390>"
       ]
      }
     ],
     "prompt_number": 39
    },
    {
     "cell_type": "code",
     "collapsed": false,
     "input": [
      "df.rating.hist(bins=100);\n",
      "#this is called a \"normal\" distribution--as expected, symmetrical"
     ],
     "language": "python",
     "metadata": {},
     "outputs": [
      {
       "metadata": {},
       "output_type": "pyout",
       "prompt_number": 40,
       "text": [
        "<matplotlib.axes._subplots.AxesSubplot at 0x10a35c790>"
       ]
      },
      {
       "metadata": {},
       "output_type": "display_data",
       "png": "[encoded data removed]",
       "text": [
        "<matplotlib.figure.Figure at 0x10a3c1850>"
       ]
      }
     ],
     "prompt_number": 40
    },
    {
     "cell_type": "code",
     "collapsed": false,
     "input": [
      "#contexts can be set for paper, poster...!\n",
      "sns.set_context(\"notebook\")\n",
      "meanrat=df.rating.mean()\n",
      "print meanrat, np.mean(df.rating), df.rating.median()\n",
      "#see all the style options, too!\n",
      "with sns.axes_style(\"whitegrid\"):\n",
      "    df.rating.hist(bins=50, alpha=0.4);\n",
      "    plt.axvline(meanrat, 0, 1.0, color='r', label='Mean')\n",
      "    plt.xlabel(\"Average rating of book\")\n",
      "    plt.ylabel(\"Counts\")\n",
      "    plt.title(\"Ratings Histogram\")\n",
      "    plt.legend()\n",
      "    #sns.despine()"
     ],
     "language": "python",
     "metadata": {},
     "outputs": [
      {
       "output_type": "stream",
       "stream": "stdout",
       "text": [
        "4.04220073358 4.04220073358 4.05\n"
       ]
      },
      {
       "metadata": {},
       "output_type": "display_data",
       "png": "[encoded data removed]",
       "text": [
        "<matplotlib.figure.Figure at 0x10c3a89d0>"
       ]
      }
     ],
     "prompt_number": 44
    },
    {
     "cell_type": "code",
     "collapsed": false,
     "input": [],
     "language": "python",
     "metadata": {},
     "outputs": []
    }
   ],
   "metadata": {}
  }
 ]
}